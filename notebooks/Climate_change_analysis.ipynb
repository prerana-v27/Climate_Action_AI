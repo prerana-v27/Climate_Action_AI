{
 "cells": [
  {
   "cell_type": "code",
   "execution_count": 1,
   "id": "b1e21f11",
   "metadata": {},
   "outputs": [],
   "source": [
    "import pandas as pd"
   ]
  },
  {
   "cell_type": "code",
   "execution_count": 2,
   "id": "3e0018f5",
   "metadata": {},
   "outputs": [],
   "source": [
    "temp_df = pd.read_csv('D:/IBM_PROJECT/Climate_Actions_AI/notebooks/cleaned_GlobalLandTemperaturesByState.csv')\n",
    "co2_df = pd.read_csv('D:/IBM_PROJECT/Climate_Actions_AI/notebooks/cleaned_co2_emissions.csv')\n",
    "forest_df = pd.read_csv('D:/IBM_PROJECT/Climate_Actions_AI/notebooks/cleaned_forest_area_data.csv')\n",
    "land_temp_df = pd.read_csv('D:/IBM_PROJECT/Climate_Actions_AI/notebooks/cleaned_GlobalLandTemperaturesByState.csv')\n",
    "urban_df = pd.read_csv('D:/IBM_PROJECT/Climate_Actions_AI/notebooks/cleaned_urban_growth.csv')"
   ]
  },
  {
   "cell_type": "code",
   "execution_count": 3,
   "id": "1bf2339e",
   "metadata": {},
   "outputs": [
    {
     "name": "stdout",
     "output_type": "stream",
     "text": [
      "CO2: (18646, 4) Index(['Country', 'Country Code', 'Year', 'Annual CO2 Emissions (tonnes)'], dtype='object')\n",
      "Forest: (8409, 6) Index(['Country Name', 'Country Code', 'Indicator Name', 'Indicator Code',\n",
      "       'Year', 'Forest Area (% of land)'],\n",
      "      dtype='object')\n",
      "Global Temp: (328784, 7) Index(['dt', 'AverageTemperature', 'AverageTemperatureUncertainty', 'State',\n",
      "       'Country', 'Year', 'Month'],\n",
      "      dtype='object')\n",
      "Land Temp: (328784, 7) Index(['dt', 'AverageTemperature', 'AverageTemperatureUncertainty', 'State',\n",
      "       'Country', 'Year', 'Month'],\n",
      "      dtype='object')\n",
      "Urban Growth: (16275, 7) Index(['Country Name', 'Country Code', 'Indicator Name', 'Indicator Code',\n",
      "       'Year', 'Urban_Growth', 'Decade'],\n",
      "      dtype='object')\n"
     ]
    }
   ],
   "source": [
    "print(\"CO2:\", co2_df.shape, co2_df.columns)\n",
    "print(\"Forest:\", forest_df.shape, forest_df.columns)\n",
    "print(\"Global Temp:\", temp_df.shape, temp_df.columns)\n",
    "print(\"Land Temp:\", land_temp_df.shape, land_temp_df.columns)\n",
    "print(\"Urban Growth:\", urban_df.shape, urban_df.columns)"
   ]
  },
  {
   "cell_type": "code",
   "execution_count": 5,
   "id": "64d49611",
   "metadata": {},
   "outputs": [],
   "source": [
    "# Check and standardize year columns\n",
    "co2_df.rename(columns={'year': 'Year'}, inplace=True)\n",
    "forest_df.rename(columns={'year': 'Year'}, inplace=True)\n",
    "urban_df.rename(columns={'year': 'Year'}, inplace=True)\n",
    "temp_df.rename(columns={'dt': 'Date'}, inplace=True)\n",
    "land_temp_df.rename(columns={'dt': 'Date'}, inplace=True)"
   ]
  },
  {
   "cell_type": "code",
   "execution_count": 6,
   "id": "3bf0d2af",
   "metadata": {},
   "outputs": [],
   "source": [
    "# Convert 'Date' to year in temperature datasets\n",
    "temp_df['Year'] = pd.to_datetime(temp_df['Date']).dt.year\n",
    "land_temp_df['Year'] = pd.to_datetime(land_temp_df['Date']).dt.year"
   ]
  },
  {
   "cell_type": "code",
   "execution_count": 8,
   "id": "217347d1",
   "metadata": {},
   "outputs": [
    {
     "name": "stdout",
     "output_type": "stream",
     "text": [
      "CO2 Emissions: Index(['Country', 'Country Code', 'Year', 'Annual CO2 Emissions (tonnes)'], dtype='object')\n",
      "Forest Area: Index(['Country Name', 'Country Code', 'Indicator Name', 'Indicator Code',\n",
      "       'Year', 'Forest Area (% of land)'],\n",
      "      dtype='object')\n",
      "Urban Growth: Index(['Country Name', 'Country Code', 'Indicator Name', 'Indicator Code',\n",
      "       'Year', 'Urban_Growth', 'Decade'],\n",
      "      dtype='object')\n",
      "Global Temperatures: Index(['Date', 'AverageTemperature', 'AverageTemperatureUncertainty', 'State',\n",
      "       'Country', 'Year', 'Month'],\n",
      "      dtype='object')\n",
      "State Temperatures: Index(['Date', 'AverageTemperature', 'AverageTemperatureUncertainty', 'State',\n",
      "       'Country', 'Year', 'Month'],\n",
      "      dtype='object')\n"
     ]
    }
   ],
   "source": [
    "print(\"CO2 Emissions:\", co2_df.columns)\n",
    "print(\"Forest Area:\", forest_df.columns)\n",
    "print(\"Urban Growth:\", urban_df.columns)\n",
    "print(\"Global Temperatures:\", temp_df.columns)\n",
    "print(\"State Temperatures:\", land_temp_df.columns)"
   ]
  },
  {
   "cell_type": "code",
   "execution_count": 9,
   "id": "9c5ad42e",
   "metadata": {},
   "outputs": [],
   "source": [
    "forest_df.rename(columns={'Country Name': 'Country'}, inplace=True)\n",
    "urban_df.rename(columns={'Country Name': 'Country'}, inplace=True)\n"
   ]
  },
  {
   "cell_type": "code",
   "execution_count": 10,
   "id": "19e5a020",
   "metadata": {},
   "outputs": [],
   "source": [
    "forest_df = forest_df[['Country', 'Country Code', 'Year', 'Forest Area (% of land)']]\n",
    "urban_df = urban_df[['Country', 'Country Code', 'Year', 'Urban_Growth']]\n"
   ]
  },
  {
   "cell_type": "code",
   "execution_count": null,
   "id": "f3bd403c",
   "metadata": {},
   "outputs": [],
   "source": [
    "merged_df = co2_df.merge(forest_df, on=['Country', 'Country Code', 'Year'], how='inner')\n",
    "merged_df = merged_df.merge(urban_df, on=['Country', 'Country Code', 'Year'], how='inner')\n"
   ]
  },
  {
   "cell_type": "markdown",
   "id": "722e52e8",
   "metadata": {},
   "source": [
    "This above code gives a combined dataset with:\n",
    "\n",
    "Annual CO₂ emissions\n",
    "\n",
    "Forest area\n",
    "\n",
    "Urban growth"
   ]
  },
  {
   "cell_type": "code",
   "execution_count": 12,
   "id": "8165d34b",
   "metadata": {},
   "outputs": [],
   "source": [
    "# If analyzing globally (Merging with Global Temperature To see correlation with temperature:)\n",
    "merged_with_temp = merged_df.merge(temp_df[['Country', 'Year', 'AverageTemperature']],\n",
    "                                   on=['Country', 'Year'], how='left')\n",
    "\n",
    "\n"
   ]
  },
  {
   "cell_type": "code",
   "execution_count": 13,
   "id": "a23a2750",
   "metadata": {},
   "outputs": [],
   "source": [
    "# focusing on India states only\n",
    "india_temp = land_temp_df[land_temp_df['Country'] == 'India']"
   ]
  },
  {
   "cell_type": "code",
   "execution_count": 15,
   "id": "9ba11070",
   "metadata": {},
   "outputs": [],
   "source": [
    "merged_with_temp.to_csv('D:/IBM_PROJECT/Climate_Actions_AI/data/processed/merged_climate_dataset.csv', index=False)\n"
   ]
  },
  {
   "cell_type": "code",
   "execution_count": 16,
   "id": "0c8f521b",
   "metadata": {},
   "outputs": [
    {
     "name": "stdout",
     "output_type": "stream",
     "text": [
      "       Country Country Code  Year  Annual CO2 Emissions (tonnes)  \\\n",
      "0  Afghanistan          AFG  1990                     2602407.59   \n",
      "1  Afghanistan          AFG  1991                     2426486.16   \n",
      "2  Afghanistan          AFG  1992                     1381521.84   \n",
      "3  Afghanistan          AFG  1993                     1333837.11   \n",
      "4  Afghanistan          AFG  1994                     1282488.38   \n",
      "\n",
      "   Forest Area (% of land)  Urban_Growth  AverageTemperature  \n",
      "0                 1.852782      1.855712                 NaN  \n",
      "1                 1.852782      2.010729                 NaN  \n",
      "2                 1.852782      8.574058                 NaN  \n",
      "3                 1.852782     12.223160                 NaN  \n",
      "4                 1.852782      8.807544                 NaN  \n"
     ]
    }
   ],
   "source": [
    "print(merged_with_temp.head())\n"
   ]
  },
  {
   "cell_type": "code",
   "execution_count": 17,
   "id": "25f406c2",
   "metadata": {},
   "outputs": [
    {
     "name": "stdout",
     "output_type": "stream",
     "text": [
      "(47771, 7)\n"
     ]
    }
   ],
   "source": [
    "print(merged_with_temp.shape)"
   ]
  },
  {
   "cell_type": "code",
   "execution_count": null,
   "id": "0d690c23",
   "metadata": {},
   "outputs": [],
   "source": []
  }
 ],
 "metadata": {
  "kernelspec": {
   "display_name": "Python 3",
   "language": "python",
   "name": "python3"
  },
  "language_info": {
   "codemirror_mode": {
    "name": "ipython",
    "version": 3
   },
   "file_extension": ".py",
   "mimetype": "text/x-python",
   "name": "python",
   "nbconvert_exporter": "python",
   "pygments_lexer": "ipython3",
   "version": "3.11.4"
  }
 },
 "nbformat": 4,
 "nbformat_minor": 5
}
